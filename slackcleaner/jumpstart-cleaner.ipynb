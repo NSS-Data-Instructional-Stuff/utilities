{
 "cells": [
  {
   "cell_type": "code",
   "execution_count": null,
   "metadata": {},
   "outputs": [],
   "source": [
    "from slack_cleaner2 import *\n",
    "import json"
   ]
  },
  {
   "cell_type": "code",
   "execution_count": null,
   "metadata": {},
   "outputs": [],
   "source": [
    "with open('token.json') as fi:\n",
    "    credentials = json.load(fi)\n",
    "    \n",
    "oauth_token = credentials['token']"
   ]
  },
  {
   "cell_type": "markdown",
   "metadata": {},
   "source": [
    "#### Github\n",
    "https://github.com/sgratzl/slack_cleaner2\n",
    "\n",
    "`pip install slack-cleaner2`  "
   ]
  },
  {
   "cell_type": "code",
   "execution_count": null,
   "metadata": {},
   "outputs": [],
   "source": [
    "#create the cleaner\n",
    "cleaner = SlackCleaner(oauth_token)"
   ]
  },
  {
   "cell_type": "code",
   "execution_count": null,
   "metadata": {},
   "outputs": [],
   "source": [
    "# Test to see that it connected\n",
    "cleaner.channels"
   ]
  },
  {
   "cell_type": "code",
   "execution_count": null,
   "metadata": {},
   "outputs": [],
   "source": [
    "# Display the last message\n",
    "messages = cleaner.msgs(filter(match('.*nss-data-analytics-js'), \n",
    "                         cleaner.conversations))\n",
    "msg = next(messages)\n",
    "msg"
   ]
  },
  {
   "cell_type": "code",
   "execution_count": null,
   "metadata": {},
   "outputs": [],
   "source": [
    "# delete all messages in nss-data-analytics-js channel\n",
    "for msg in cleaner.msgs(filter(match('.*nss-data-analytics-js'), \n",
    "                         cleaner.conversations)):\n",
    "    msg.delete(replies=True, files=True)"
   ]
  },
  {
   "cell_type": "code",
   "execution_count": null,
   "metadata": {},
   "outputs": [],
   "source": [
    "# delete all messages in general channel\n",
    "for msg in cleaner.msgs(filter(match('.*general'), \n",
    "                         cleaner.conversations)):\n",
    "    msg.delete(replies=True, files=True)"
   ]
  },
  {
   "cell_type": "code",
   "execution_count": null,
   "metadata": {},
   "outputs": [],
   "source": [
    "# delete all messages in random channel\n",
    "for msg in cleaner.msgs(filter(match('.*random'), \n",
    "                         cleaner.conversations)):\n",
    "    msg.delete(replies=True, files=True)"
   ]
  }
 ],
 "metadata": {
  "kernelspec": {
   "display_name": "Python 3 (ipykernel)",
   "language": "python",
   "name": "python3"
  },
  "language_info": {
   "codemirror_mode": {
    "name": "ipython",
    "version": 3
   },
   "file_extension": ".py",
   "mimetype": "text/x-python",
   "name": "python",
   "nbconvert_exporter": "python",
   "pygments_lexer": "ipython3",
   "version": "3.9.13"
  }
 },
 "nbformat": 4,
 "nbformat_minor": 2
}
