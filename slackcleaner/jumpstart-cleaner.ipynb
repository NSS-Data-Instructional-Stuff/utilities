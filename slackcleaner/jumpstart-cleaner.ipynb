{
 "cells": [
  {
   "cell_type": "code",
   "execution_count": 1,
   "metadata": {},
   "outputs": [],
   "source": [
    "from slack_cleaner2 import *\n",
    "import pickle"
   ]
  },
  {
   "cell_type": "code",
   "execution_count": 2,
   "metadata": {},
   "outputs": [],
   "source": [
    "oauth_token = pickle.load(open('pickles/token.pkl', 'rb'))"
   ]
  },
  {
   "cell_type": "markdown",
   "metadata": {},
   "source": [
    "#### Github\n",
    "https://github.com/sgratzl/slack_cleaner2\n",
    "\n",
    "`pip install slack-cleaner2`  "
   ]
  },
  {
   "cell_type": "code",
   "execution_count": 3,
   "metadata": {},
   "outputs": [
    {
     "name": "stderr",
     "output_type": "stream",
     "text": [
      "users.list: missing scope error: users:read (bot, user) is missing\n",
      "cannot determine my own user, using the first one or a dummy one\n",
      "user UG0S0JB99 not found - generating dummy one\n",
      "user UG1ARE3D3 not found - generating dummy one\n",
      "user UG1BNAAEM not found - generating dummy one\n",
      "user UG1QSGB7W not found - generating dummy one\n",
      "user UG2MYG486 not found - generating dummy one\n",
      "user UG2PHEBAA not found - generating dummy one\n",
      "user UG72YBGUR not found - generating dummy one\n",
      "user UJ79WUA49 not found - generating dummy one\n",
      "user UNMUN2UMR not found - generating dummy one\n",
      "user UNZDJKUN4 not found - generating dummy one\n",
      "user USYKT9CKV not found - generating dummy one\n",
      "user U016H146CJJ not found - generating dummy one\n",
      "<function SlackCleaner.safe_paginated_api.<locals>.list_page at 0x7ff1508c1c10>: unknown error occurred: fetch_members_failed\n",
      "<function SlackCleaner.safe_paginated_api.<locals>.list_page at 0x7ff1508c1c10>: unknown error occurred: fetch_members_failed\n",
      "<function SlackCleaner.safe_paginated_api.<locals>.list_page at 0x7ff1508c1c10>: unknown error occurred: fetch_members_failed\n",
      "<function SlackCleaner.safe_paginated_api.<locals>.list_page at 0x7ff1508c1c10>: unknown error occurred: fetch_members_failed\n",
      "<function SlackCleaner.safe_paginated_api.<locals>.list_page at 0x7ff1508c1c10>: unknown error occurred: fetch_members_failed\n",
      "<function SlackCleaner.safe_paginated_api.<locals>.list_page at 0x7ff1508c1c10>: unknown error occurred: fetch_members_failed\n",
      "<function SlackCleaner.safe_paginated_api.<locals>.list_page at 0x7ff1508c1c10>: unknown error occurred: fetch_members_failed\n",
      "<function SlackCleaner.safe_paginated_api.<locals>.list_page at 0x7ff1508c1c10>: unknown error occurred: fetch_members_failed\n",
      "<function SlackCleaner.safe_paginated_api.<locals>.list_page at 0x7ff1508c1c10>: unknown error occurred: fetch_members_failed\n",
      "<function SlackCleaner.safe_paginated_api.<locals>.list_page at 0x7ff1508c1c10>: unknown error occurred: fetch_members_failed\n",
      "<function SlackCleaner.safe_paginated_api.<locals>.list_page at 0x7ff1508c1c10>: unknown error occurred: fetch_members_failed\n",
      "<function SlackCleaner.safe_paginated_api.<locals>.list_page at 0x7ff1508c1c10>: unknown error occurred: fetch_members_failed\n",
      "conversations.list (private_channel): missing scope error: groups:read is missing\n",
      "conversations.list (mpim): missing scope error: mpim:read is missing\n",
      "conversations.list (im): missing scope error: im:read is missing\n"
     ]
    }
   ],
   "source": [
    "#create the cleaner\n",
    "cleaner = SlackCleaner(oauth_token)"
   ]
  },
  {
   "cell_type": "code",
   "execution_count": 4,
   "metadata": {},
   "outputs": [
    {
     "data": {
      "text/plain": [
       "[????? (?????) ?????, UG0S0JB99 (UG0S0JB99) UG0S0JB99, UG1ARE3D3 (UG1ARE3D3) UG1ARE3D3, UG1BNAAEM (UG1BNAAEM) UG1BNAAEM, UG1QSGB7W (UG1QSGB7W) UG1QSGB7W, UG2MYG486 (UG2MYG486) UG2MYG486, UG2PHEBAA (UG2PHEBAA) UG2PHEBAA, UG72YBGUR (UG72YBGUR) UG72YBGUR, UJ79WUA49 (UJ79WUA49) UJ79WUA49, UNMUN2UMR (UNMUN2UMR) UNMUN2UMR, UNZDJKUN4 (UNZDJKUN4) UNZDJKUN4, USYKT9CKV (USYKT9CKV) USYKT9CKV, U016H146CJJ (U016H146CJJ) U016H146CJJ]"
      ]
     },
     "execution_count": 4,
     "metadata": {},
     "output_type": "execute_result"
    }
   ],
   "source": [
    "#test to see that it connected\n",
    "cleaner.users"
   ]
  },
  {
   "cell_type": "code",
   "execution_count": 5,
   "metadata": {},
   "outputs": [
    {
     "name": "stderr",
     "output_type": "stream",
     "text": [
      "user U018EFAJAP4 not found - generating dummy one\n"
     ]
    },
    {
     "name": "stdout",
     "output_type": "stream",
     "text": [
      ".."
     ]
    },
    {
     "name": "stderr",
     "output_type": "stream",
     "text": [
      "user U018B9A1Y6P not found - generating dummy one\n"
     ]
    },
    {
     "name": "stdout",
     "output_type": "stream",
     "text": [
      "."
     ]
    },
    {
     "name": "stderr",
     "output_type": "stream",
     "text": [
      "user U018H8Q5CAY not found - generating dummy one\n"
     ]
    },
    {
     "name": "stdout",
     "output_type": "stream",
     "text": [
      "............."
     ]
    },
    {
     "name": "stderr",
     "output_type": "stream",
     "text": [
      "user U018PMM0R6V not found - generating dummy one\n"
     ]
    },
    {
     "name": "stdout",
     "output_type": "stream",
     "text": [
      "..."
     ]
    },
    {
     "name": "stderr",
     "output_type": "stream",
     "text": [
      "user U018B99RUUT not found - generating dummy one\n"
     ]
    },
    {
     "name": "stdout",
     "output_type": "stream",
     "text": [
      "..."
     ]
    },
    {
     "name": "stderr",
     "output_type": "stream",
     "text": [
      "user U0190TXSPTJ not found - generating dummy one\n"
     ]
    },
    {
     "name": "stdout",
     "output_type": "stream",
     "text": [
      "..."
     ]
    },
    {
     "name": "stderr",
     "output_type": "stream",
     "text": [
      "user U018PMMC2SV not found - generating dummy one\n"
     ]
    },
    {
     "name": "stdout",
     "output_type": "stream",
     "text": [
      "........."
     ]
    },
    {
     "name": "stderr",
     "output_type": "stream",
     "text": [
      "user U018B37EEFL not found - generating dummy one\n"
     ]
    },
    {
     "name": "stdout",
     "output_type": "stream",
     "text": [
      "..........................."
     ]
    },
    {
     "name": "stderr",
     "output_type": "stream",
     "text": [
      "user USLACKBOT not found - generating dummy one\n"
     ]
    },
    {
     "name": "stdout",
     "output_type": "stream",
     "text": [
      "......................."
     ]
    },
    {
     "name": "stderr",
     "output_type": "stream",
     "text": [
      "user U018B37L3QS not found - generating dummy one\n"
     ]
    },
    {
     "name": "stdout",
     "output_type": "stream",
     "text": [
      "................"
     ]
    },
    {
     "name": "stderr",
     "output_type": "stream",
     "text": [
      "user U0184B551E2 not found - generating dummy one\n"
     ]
    },
    {
     "name": "stdout",
     "output_type": "stream",
     "text": [
      "..."
     ]
    },
    {
     "name": "stderr",
     "output_type": "stream",
     "text": [
      "user U0189MPB0RK not found - generating dummy one\n"
     ]
    },
    {
     "name": "stdout",
     "output_type": "stream",
     "text": [
      "......................."
     ]
    },
    {
     "name": "stderr",
     "output_type": "stream",
     "text": [
      "user U018PMM6F5X not found - generating dummy one\n"
     ]
    },
    {
     "name": "stdout",
     "output_type": "stream",
     "text": [
      "..............................................."
     ]
    },
    {
     "name": "stderr",
     "output_type": "stream",
     "text": [
      "user U017WATCDT9 not found - generating dummy one\n"
     ]
    },
    {
     "name": "stdout",
     "output_type": "stream",
     "text": [
      "..............................."
     ]
    }
   ],
   "source": [
    "# delete all messages in nss-data-analytics-js channel\n",
    "for msg in cleaner.msgs(filter(match('.*nss-data-analytics-js'), \n",
    "                         cleaner.conversations)):\n",
    "    msg.delete(replies=True, files=True)"
   ]
  },
  {
   "cell_type": "code",
   "execution_count": 6,
   "metadata": {},
   "outputs": [
    {
     "name": "stdout",
     "output_type": "stream",
     "text": [
      "..."
     ]
    },
    {
     "name": "stderr",
     "output_type": "stream",
     "text": [
      "user U0190TY2TUG not found - generating dummy one\n"
     ]
    },
    {
     "name": "stdout",
     "output_type": "stream",
     "text": [
      "...."
     ]
    },
    {
     "name": "stderr",
     "output_type": "stream",
     "text": [
      "user U018LV2AVSQ not found - generating dummy one\n"
     ]
    },
    {
     "name": "stdout",
     "output_type": "stream",
     "text": [
      ".."
     ]
    },
    {
     "name": "stderr",
     "output_type": "stream",
     "text": [
      "user U018H8PV2UC not found - generating dummy one\n"
     ]
    },
    {
     "name": "stdout",
     "output_type": "stream",
     "text": [
      "....."
     ]
    },
    {
     "name": "stderr",
     "output_type": "stream",
     "text": [
      "user U0189MPUUVB not found - generating dummy one\n"
     ]
    },
    {
     "name": "stdout",
     "output_type": "stream",
     "text": [
      "."
     ]
    },
    {
     "name": "stderr",
     "output_type": "stream",
     "text": [
      "user U0184B5AP4N not found - generating dummy one\n"
     ]
    },
    {
     "name": "stdout",
     "output_type": "stream",
     "text": [
      "........"
     ]
    },
    {
     "name": "stderr",
     "output_type": "stream",
     "text": [
      "user U0189MPPBK7 not found - generating dummy one\n"
     ]
    },
    {
     "name": "stdout",
     "output_type": "stream",
     "text": [
      "....."
     ]
    },
    {
     "name": "stderr",
     "output_type": "stream",
     "text": [
      "user U016RS75XNW not found - generating dummy one\n"
     ]
    },
    {
     "name": "stdout",
     "output_type": "stream",
     "text": [
      ".."
     ]
    },
    {
     "name": "stderr",
     "output_type": "stream",
     "text": [
      "user U016B4CLV9V not found - generating dummy one\n"
     ]
    },
    {
     "name": "stdout",
     "output_type": "stream",
     "text": [
      "."
     ]
    },
    {
     "name": "stderr",
     "output_type": "stream",
     "text": [
      "user U016S2XPA5R not found - generating dummy one\n"
     ]
    },
    {
     "name": "stdout",
     "output_type": "stream",
     "text": [
      ".."
     ]
    },
    {
     "name": "stderr",
     "output_type": "stream",
     "text": [
      "user U016K4P4E2J not found - generating dummy one\n"
     ]
    },
    {
     "name": "stdout",
     "output_type": "stream",
     "text": [
      "."
     ]
    },
    {
     "name": "stderr",
     "output_type": "stream",
     "text": [
      "user U017FMDBNSC not found - generating dummy one\n"
     ]
    },
    {
     "name": "stdout",
     "output_type": "stream",
     "text": [
      "."
     ]
    },
    {
     "name": "stderr",
     "output_type": "stream",
     "text": [
      "user U016RS79VQS not found - generating dummy one\n"
     ]
    },
    {
     "name": "stdout",
     "output_type": "stream",
     "text": [
      "."
     ]
    },
    {
     "name": "stderr",
     "output_type": "stream",
     "text": [
      "user U016S2XQJRZ not found - generating dummy one\n"
     ]
    },
    {
     "name": "stdout",
     "output_type": "stream",
     "text": [
      ".."
     ]
    },
    {
     "name": "stderr",
     "output_type": "stream",
     "text": [
      "user U015FS73BHN not found - generating dummy one\n"
     ]
    },
    {
     "name": "stdout",
     "output_type": "stream",
     "text": [
      "....."
     ]
    },
    {
     "name": "stderr",
     "output_type": "stream",
     "text": [
      "user U015FS742JC not found - generating dummy one\n"
     ]
    },
    {
     "name": "stdout",
     "output_type": "stream",
     "text": [
      "."
     ]
    },
    {
     "name": "stderr",
     "output_type": "stream",
     "text": [
      "user U014S1LBN3U not found - generating dummy one\n"
     ]
    },
    {
     "name": "stdout",
     "output_type": "stream",
     "text": [
      "."
     ]
    },
    {
     "name": "stderr",
     "output_type": "stream",
     "text": [
      "user UTJF775K2 not found - generating dummy one\n"
     ]
    },
    {
     "name": "stdout",
     "output_type": "stream",
     "text": [
      ".."
     ]
    },
    {
     "name": "stderr",
     "output_type": "stream",
     "text": [
      "user UTJFTSM4M not found - generating dummy one\n"
     ]
    },
    {
     "name": "stdout",
     "output_type": "stream",
     "text": [
      "."
     ]
    },
    {
     "name": "stderr",
     "output_type": "stream",
     "text": [
      "user UTJFTU0SZ not found - generating dummy one\n"
     ]
    },
    {
     "name": "stdout",
     "output_type": "stream",
     "text": [
      "."
     ]
    },
    {
     "name": "stderr",
     "output_type": "stream",
     "text": [
      "user UTLME266A not found - generating dummy one\n"
     ]
    },
    {
     "name": "stdout",
     "output_type": "stream",
     "text": [
      "............"
     ]
    },
    {
     "name": "stderr",
     "output_type": "stream",
     "text": [
      "user UM9KX1MJB not found - generating dummy one\n"
     ]
    },
    {
     "name": "stdout",
     "output_type": "stream",
     "text": [
      "."
     ]
    },
    {
     "name": "stderr",
     "output_type": "stream",
     "text": [
      "user UM7PWRC5N not found - generating dummy one\n"
     ]
    },
    {
     "name": "stdout",
     "output_type": "stream",
     "text": [
      "."
     ]
    },
    {
     "name": "stderr",
     "output_type": "stream",
     "text": [
      "user UM7Q3DB53 not found - generating dummy one\n"
     ]
    },
    {
     "name": "stdout",
     "output_type": "stream",
     "text": [
      "."
     ]
    },
    {
     "name": "stderr",
     "output_type": "stream",
     "text": [
      "user UM9KX0RK9 not found - generating dummy one\n"
     ]
    },
    {
     "name": "stdout",
     "output_type": "stream",
     "text": [
      "."
     ]
    },
    {
     "name": "stderr",
     "output_type": "stream",
     "text": [
      "user UM9UEBSLW not found - generating dummy one\n"
     ]
    },
    {
     "name": "stdout",
     "output_type": "stream",
     "text": [
      "."
     ]
    },
    {
     "name": "stderr",
     "output_type": "stream",
     "text": [
      "user UM7A9JPRS not found - generating dummy one\n"
     ]
    },
    {
     "name": "stdout",
     "output_type": "stream",
     "text": [
      "."
     ]
    },
    {
     "name": "stderr",
     "output_type": "stream",
     "text": [
      "user UM1D0K54Z not found - generating dummy one\n"
     ]
    },
    {
     "name": "stdout",
     "output_type": "stream",
     "text": [
      "."
     ]
    },
    {
     "name": "stderr",
     "output_type": "stream",
     "text": [
      "user UM9KWU04F not found - generating dummy one\n"
     ]
    },
    {
     "name": "stdout",
     "output_type": "stream",
     "text": [
      "."
     ]
    },
    {
     "name": "stderr",
     "output_type": "stream",
     "text": [
      "user UM9KWTEKZ not found - generating dummy one\n"
     ]
    },
    {
     "name": "stdout",
     "output_type": "stream",
     "text": [
      "."
     ]
    },
    {
     "name": "stderr",
     "output_type": "stream",
     "text": [
      "user UM7A9G9HA not found - generating dummy one\n"
     ]
    },
    {
     "name": "stdout",
     "output_type": "stream",
     "text": [
      "."
     ]
    },
    {
     "name": "stderr",
     "output_type": "stream",
     "text": [
      "user UM9UE7VF0 not found - generating dummy one\n"
     ]
    },
    {
     "name": "stdout",
     "output_type": "stream",
     "text": [
      "."
     ]
    },
    {
     "name": "stderr",
     "output_type": "stream",
     "text": [
      "user UM9KWR7SB not found - generating dummy one\n"
     ]
    },
    {
     "name": "stdout",
     "output_type": "stream",
     "text": [
      "."
     ]
    },
    {
     "name": "stderr",
     "output_type": "stream",
     "text": [
      "user UK6FQ12DU not found - generating dummy one\n"
     ]
    },
    {
     "name": "stdout",
     "output_type": "stream",
     "text": [
      "."
     ]
    },
    {
     "name": "stderr",
     "output_type": "stream",
     "text": [
      "user UJXLLB49X not found - generating dummy one\n"
     ]
    },
    {
     "name": "stdout",
     "output_type": "stream",
     "text": [
      "."
     ]
    },
    {
     "name": "stderr",
     "output_type": "stream",
     "text": [
      "user UK3U8884V not found - generating dummy one\n"
     ]
    },
    {
     "name": "stdout",
     "output_type": "stream",
     "text": [
      "."
     ]
    },
    {
     "name": "stderr",
     "output_type": "stream",
     "text": [
      "user UK64FQ1K8 not found - generating dummy one\n"
     ]
    },
    {
     "name": "stdout",
     "output_type": "stream",
     "text": [
      "."
     ]
    },
    {
     "name": "stderr",
     "output_type": "stream",
     "text": [
      "user UJXJ48GUR not found - generating dummy one\n"
     ]
    },
    {
     "name": "stdout",
     "output_type": "stream",
     "text": [
      "."
     ]
    },
    {
     "name": "stderr",
     "output_type": "stream",
     "text": [
      "user UJSF90Q3V not found - generating dummy one\n"
     ]
    },
    {
     "name": "stdout",
     "output_type": "stream",
     "text": [
      "."
     ]
    },
    {
     "name": "stderr",
     "output_type": "stream",
     "text": [
      "user UK3SD691T not found - generating dummy one\n"
     ]
    },
    {
     "name": "stdout",
     "output_type": "stream",
     "text": [
      "."
     ]
    },
    {
     "name": "stderr",
     "output_type": "stream",
     "text": [
      "user UK3S7PES1 not found - generating dummy one\n"
     ]
    },
    {
     "name": "stdout",
     "output_type": "stream",
     "text": [
      "."
     ]
    },
    {
     "name": "stderr",
     "output_type": "stream",
     "text": [
      "user UK3RG4EPP not found - generating dummy one\n"
     ]
    },
    {
     "name": "stdout",
     "output_type": "stream",
     "text": [
      "."
     ]
    },
    {
     "name": "stderr",
     "output_type": "stream",
     "text": [
      "user UJXFZ5R1P not found - generating dummy one\n"
     ]
    },
    {
     "name": "stdout",
     "output_type": "stream",
     "text": [
      "."
     ]
    },
    {
     "name": "stderr",
     "output_type": "stream",
     "text": [
      "user UJSDD5MC2 not found - generating dummy one\n"
     ]
    },
    {
     "name": "stdout",
     "output_type": "stream",
     "text": [
      "."
     ]
    },
    {
     "name": "stderr",
     "output_type": "stream",
     "text": [
      "user UHNQM2Z2T not found - generating dummy one\n"
     ]
    },
    {
     "name": "stdout",
     "output_type": "stream",
     "text": [
      "."
     ]
    },
    {
     "name": "stderr",
     "output_type": "stream",
     "text": [
      "user UHCUCQFT3 not found - generating dummy one\n"
     ]
    },
    {
     "name": "stdout",
     "output_type": "stream",
     "text": [
      "."
     ]
    },
    {
     "name": "stderr",
     "output_type": "stream",
     "text": [
      "user UHNP7G6BZ not found - generating dummy one\n"
     ]
    },
    {
     "name": "stdout",
     "output_type": "stream",
     "text": [
      "."
     ]
    },
    {
     "name": "stderr",
     "output_type": "stream",
     "text": [
      "user UHK7LGTDE not found - generating dummy one\n"
     ]
    },
    {
     "name": "stdout",
     "output_type": "stream",
     "text": [
      "."
     ]
    },
    {
     "name": "stderr",
     "output_type": "stream",
     "text": [
      "user UHMJDCFM2 not found - generating dummy one\n"
     ]
    },
    {
     "name": "stdout",
     "output_type": "stream",
     "text": [
      "."
     ]
    },
    {
     "name": "stderr",
     "output_type": "stream",
     "text": [
      "user UHNMBARLP not found - generating dummy one\n"
     ]
    },
    {
     "name": "stdout",
     "output_type": "stream",
     "text": [
      "."
     ]
    },
    {
     "name": "stderr",
     "output_type": "stream",
     "text": [
      "user UHMDXB212 not found - generating dummy one\n"
     ]
    },
    {
     "name": "stdout",
     "output_type": "stream",
     "text": [
      "."
     ]
    },
    {
     "name": "stderr",
     "output_type": "stream",
     "text": [
      "user UHK2MQHKJ not found - generating dummy one\n"
     ]
    },
    {
     "name": "stdout",
     "output_type": "stream",
     "text": [
      "."
     ]
    },
    {
     "name": "stderr",
     "output_type": "stream",
     "text": [
      "user UHNSCTC0N not found - generating dummy one\n"
     ]
    },
    {
     "name": "stdout",
     "output_type": "stream",
     "text": [
      "."
     ]
    },
    {
     "name": "stderr",
     "output_type": "stream",
     "text": [
      "user UHJV9EXCY not found - generating dummy one\n"
     ]
    },
    {
     "name": "stdout",
     "output_type": "stream",
     "text": [
      "."
     ]
    },
    {
     "name": "stderr",
     "output_type": "stream",
     "text": [
      "user UHJUB7HPS not found - generating dummy one\n"
     ]
    },
    {
     "name": "stdout",
     "output_type": "stream",
     "text": [
      "."
     ]
    },
    {
     "name": "stderr",
     "output_type": "stream",
     "text": [
      "user UHMPLQS13 not found - generating dummy one\n"
     ]
    },
    {
     "name": "stdout",
     "output_type": "stream",
     "text": [
      "."
     ]
    },
    {
     "name": "stderr",
     "output_type": "stream",
     "text": [
      "user UG2JV8ZD3 not found - generating dummy one\n"
     ]
    },
    {
     "name": "stdout",
     "output_type": "stream",
     "text": [
      "."
     ]
    },
    {
     "name": "stderr",
     "output_type": "stream",
     "text": [
      "user UG1KWN69E not found - generating dummy one\n"
     ]
    },
    {
     "name": "stdout",
     "output_type": "stream",
     "text": [
      "."
     ]
    },
    {
     "name": "stderr",
     "output_type": "stream",
     "text": [
      "user UG2G1QE21 not found - generating dummy one\n"
     ]
    },
    {
     "name": "stdout",
     "output_type": "stream",
     "text": [
      "."
     ]
    },
    {
     "name": "stderr",
     "output_type": "stream",
     "text": [
      "user UG27T2GAW not found - generating dummy one\n"
     ]
    },
    {
     "name": "stdout",
     "output_type": "stream",
     "text": [
      "."
     ]
    },
    {
     "name": "stderr",
     "output_type": "stream",
     "text": [
      "user UG1J0A83B not found - generating dummy one\n"
     ]
    },
    {
     "name": "stdout",
     "output_type": "stream",
     "text": [
      "."
     ]
    },
    {
     "name": "stderr",
     "output_type": "stream",
     "text": [
      "user UG234TPR9 not found - generating dummy one\n"
     ]
    },
    {
     "name": "stdout",
     "output_type": "stream",
     "text": [
      "."
     ]
    },
    {
     "name": "stderr",
     "output_type": "stream",
     "text": [
      "user UG21FEH60 not found - generating dummy one\n"
     ]
    },
    {
     "name": "stdout",
     "output_type": "stream",
     "text": [
      "."
     ]
    },
    {
     "name": "stderr",
     "output_type": "stream",
     "text": [
      "user UG2BC9M9T not found - generating dummy one\n"
     ]
    },
    {
     "name": "stdout",
     "output_type": "stream",
     "text": [
      "."
     ]
    },
    {
     "name": "stderr",
     "output_type": "stream",
     "text": [
      "user UG1AUGF88 not found - generating dummy one\n"
     ]
    },
    {
     "name": "stdout",
     "output_type": "stream",
     "text": [
      "."
     ]
    },
    {
     "name": "stderr",
     "output_type": "stream",
     "text": [
      "user UG3EN6P6J not found - generating dummy one\n"
     ]
    },
    {
     "name": "stdout",
     "output_type": "stream",
     "text": [
      "."
     ]
    },
    {
     "name": "stderr",
     "output_type": "stream",
     "text": [
      "user UG1SPUJHJ not found - generating dummy one\n"
     ]
    },
    {
     "name": "stdout",
     "output_type": "stream",
     "text": [
      "."
     ]
    },
    {
     "name": "stderr",
     "output_type": "stream",
     "text": [
      "user UG1S9CUTW not found - generating dummy one\n"
     ]
    },
    {
     "name": "stdout",
     "output_type": "stream",
     "text": [
      "."
     ]
    },
    {
     "name": "stderr",
     "output_type": "stream",
     "text": [
      "user UG3DKQ7FG not found - generating dummy one\n"
     ]
    },
    {
     "name": "stdout",
     "output_type": "stream",
     "text": [
      "."
     ]
    },
    {
     "name": "stderr",
     "output_type": "stream",
     "text": [
      "user UG331E3NK not found - generating dummy one\n"
     ]
    },
    {
     "name": "stdout",
     "output_type": "stream",
     "text": [
      "......."
     ]
    }
   ],
   "source": [
    "# delete all messages in general channel\n",
    "for msg in cleaner.msgs(filter(match('.*general'), \n",
    "                         cleaner.conversations)):\n",
    "    msg.delete(replies=True, files=True)"
   ]
  },
  {
   "cell_type": "code",
   "execution_count": 7,
   "metadata": {},
   "outputs": [
    {
     "name": "stdout",
     "output_type": "stream",
     "text": [
      "."
     ]
    },
    {
     "name": "stderr",
     "output_type": "stream",
     "text": [
      "user U018B37RN8J not found - generating dummy one\n"
     ]
    },
    {
     "name": "stdout",
     "output_type": "stream",
     "text": [
      "............"
     ]
    },
    {
     "name": "stderr",
     "output_type": "stream",
     "text": [
      "user UTJ1V71FE not found - generating dummy one\n"
     ]
    },
    {
     "name": "stdout",
     "output_type": "stream",
     "text": [
      "."
     ]
    },
    {
     "name": "stderr",
     "output_type": "stream",
     "text": [
      "user UT5MFFJFL not found - generating dummy one\n"
     ]
    },
    {
     "name": "stdout",
     "output_type": "stream",
     "text": [
      ".."
     ]
    },
    {
     "name": "stderr",
     "output_type": "stream",
     "text": [
      "user UT71FFMC3 not found - generating dummy one\n"
     ]
    },
    {
     "name": "stdout",
     "output_type": "stream",
     "text": [
      "................................"
     ]
    },
    {
     "name": "stderr",
     "output_type": "stream",
     "text": [
      "user UHKP9FUE4 not found - generating dummy one\n"
     ]
    },
    {
     "name": "stdout",
     "output_type": "stream",
     "text": [
      "..................................."
     ]
    }
   ],
   "source": [
    "# delete all messages in random channel\n",
    "for msg in cleaner.msgs(filter(match('.*random'), \n",
    "                         cleaner.conversations)):\n",
    "    msg.delete(replies=True, files=True)"
   ]
  },
  {
   "cell_type": "code",
   "execution_count": null,
   "metadata": {},
   "outputs": [],
   "source": []
  }
 ],
 "metadata": {
  "kernelspec": {
   "display_name": "Python 3",
   "language": "python",
   "name": "python3"
  },
  "language_info": {
   "codemirror_mode": {
    "name": "ipython",
    "version": 3
   },
   "file_extension": ".py",
   "mimetype": "text/x-python",
   "name": "python",
   "nbconvert_exporter": "python",
   "pygments_lexer": "ipython3",
   "version": "3.8.5"
  }
 },
 "nbformat": 4,
 "nbformat_minor": 2
}
