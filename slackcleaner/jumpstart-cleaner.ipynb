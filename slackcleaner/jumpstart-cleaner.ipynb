{
 "cells": [
  {
   "cell_type": "code",
   "execution_count": 1,
   "metadata": {},
   "outputs": [],
   "source": [
    "from slack_cleaner2 import *\n",
    "import pickle"
   ]
  },
  {
   "cell_type": "code",
   "execution_count": 2,
   "metadata": {},
   "outputs": [],
   "source": [
    "oauth_token = pickle.load(open('pickles/token.pkl', 'rb'))"
   ]
  },
  {
   "cell_type": "markdown",
   "metadata": {},
   "source": [
    "#### Github\n",
    "https://github.com/sgratzl/slack_cleaner2\n"
   ]
  },
  {
   "cell_type": "code",
   "execution_count": 3,
   "metadata": {},
   "outputs": [
    {
     "name": "stderr",
     "output_type": "stream",
     "text": [
      "users.list: missing scope error: users:read (bot, user) is missing\n",
      "cannot determine my own user, using the first one or a dummy one\n",
      "user UG0S0JB99 not found - generating dummy one\n",
      "user UG1ARE3D3 not found - generating dummy one\n",
      "user UG1BNAAEM not found - generating dummy one\n",
      "user UG1QSGB7W not found - generating dummy one\n",
      "user UG2MYG486 not found - generating dummy one\n",
      "user UG2PHEBAA not found - generating dummy one\n",
      "user UG72YBGUR not found - generating dummy one\n",
      "user UJ79WUA49 not found - generating dummy one\n",
      "user UM7A9PVJQ not found - generating dummy one\n",
      "user UNMUN2UMR not found - generating dummy one\n",
      "user UNZDJKUN4 not found - generating dummy one\n",
      "user USYKT9CKV not found - generating dummy one\n",
      "user U016B4CLV9V not found - generating dummy one\n",
      "user U016FLP0F1D not found - generating dummy one\n",
      "user U016H146CJJ not found - generating dummy one\n",
      "user U016K4P3KD4 not found - generating dummy one\n",
      "user U016K4P4E2J not found - generating dummy one\n",
      "user U016QF3A6LD not found - generating dummy one\n",
      "user U016QF3KH53 not found - generating dummy one\n",
      "user U016RS75XNW not found - generating dummy one\n",
      "user U016RS79VQS not found - generating dummy one\n",
      "user U016RS7ATEE not found - generating dummy one\n",
      "user U016RS7LA8J not found - generating dummy one\n",
      "user U016S2XPA5R not found - generating dummy one\n",
      "user U016S2XQJRZ not found - generating dummy one\n",
      "user U016XS0HNPL not found - generating dummy one\n",
      "user U016Y23RBPW not found - generating dummy one\n",
      "user U016Y246FKN not found - generating dummy one\n",
      "user U0174F5K5JM not found - generating dummy one\n",
      "user U0174F60W3B not found - generating dummy one\n",
      "user U017FMDBNSC not found - generating dummy one\n",
      "<function SlackCleaner.safe_paginated_api.<locals>.list_page at 0x7f80904443b0>: unknown error occurred: fetch_members_failed\n",
      "<function SlackCleaner.safe_paginated_api.<locals>.list_page at 0x7f80904443b0>: unknown error occurred: fetch_members_failed\n",
      "<function SlackCleaner.safe_paginated_api.<locals>.list_page at 0x7f80904443b0>: unknown error occurred: fetch_members_failed\n",
      "<function SlackCleaner.safe_paginated_api.<locals>.list_page at 0x7f80904443b0>: unknown error occurred: fetch_members_failed\n",
      "<function SlackCleaner.safe_paginated_api.<locals>.list_page at 0x7f80904443b0>: unknown error occurred: fetch_members_failed\n",
      "<function SlackCleaner.safe_paginated_api.<locals>.list_page at 0x7f80904443b0>: unknown error occurred: fetch_members_failed\n",
      "<function SlackCleaner.safe_paginated_api.<locals>.list_page at 0x7f80904443b0>: unknown error occurred: fetch_members_failed\n",
      "<function SlackCleaner.safe_paginated_api.<locals>.list_page at 0x7f80904443b0>: unknown error occurred: fetch_members_failed\n",
      "conversations.list (private_channel): missing scope error: groups:read is missing\n",
      "conversations.list (mpim): missing scope error: mpim:read is missing\n",
      "conversations.list (im): missing scope error: im:read is missing\n"
     ]
    }
   ],
   "source": [
    "#create the cleaner\n",
    "cleaner = SlackCleaner(oauth_token)"
   ]
  },
  {
   "cell_type": "code",
   "execution_count": 4,
   "metadata": {},
   "outputs": [
    {
     "data": {
      "text/plain": [
       "[????? (?????) ?????, UG0S0JB99 (UG0S0JB99) UG0S0JB99, UG1ARE3D3 (UG1ARE3D3) UG1ARE3D3, UG1BNAAEM (UG1BNAAEM) UG1BNAAEM, UG1QSGB7W (UG1QSGB7W) UG1QSGB7W, UG2MYG486 (UG2MYG486) UG2MYG486, UG2PHEBAA (UG2PHEBAA) UG2PHEBAA, UG72YBGUR (UG72YBGUR) UG72YBGUR, UJ79WUA49 (UJ79WUA49) UJ79WUA49, UM7A9PVJQ (UM7A9PVJQ) UM7A9PVJQ, UNMUN2UMR (UNMUN2UMR) UNMUN2UMR, UNZDJKUN4 (UNZDJKUN4) UNZDJKUN4, USYKT9CKV (USYKT9CKV) USYKT9CKV, U016B4CLV9V (U016B4CLV9V) U016B4CLV9V, U016FLP0F1D (U016FLP0F1D) U016FLP0F1D, U016H146CJJ (U016H146CJJ) U016H146CJJ, U016K4P3KD4 (U016K4P3KD4) U016K4P3KD4, U016K4P4E2J (U016K4P4E2J) U016K4P4E2J, U016QF3A6LD (U016QF3A6LD) U016QF3A6LD, U016QF3KH53 (U016QF3KH53) U016QF3KH53, U016RS75XNW (U016RS75XNW) U016RS75XNW, U016RS79VQS (U016RS79VQS) U016RS79VQS, U016RS7ATEE (U016RS7ATEE) U016RS7ATEE, U016RS7LA8J (U016RS7LA8J) U016RS7LA8J, U016S2XPA5R (U016S2XPA5R) U016S2XPA5R, U016S2XQJRZ (U016S2XQJRZ) U016S2XQJRZ, U016XS0HNPL (U016XS0HNPL) U016XS0HNPL, U016Y23RBPW (U016Y23RBPW) U016Y23RBPW, U016Y246FKN (U016Y246FKN) U016Y246FKN, U0174F5K5JM (U0174F5K5JM) U0174F5K5JM, U0174F60W3B (U0174F60W3B) U0174F60W3B, U017FMDBNSC (U017FMDBNSC) U017FMDBNSC]"
      ]
     },
     "execution_count": 4,
     "metadata": {},
     "output_type": "execute_result"
    }
   ],
   "source": [
    "#test to see that it connected\n",
    "cleaner.users"
   ]
  },
  {
   "cell_type": "code",
   "execution_count": 5,
   "metadata": {},
   "outputs": [
    {
     "name": "stdout",
     "output_type": "stream",
     "text": [
      "...................................................................................................................................................."
     ]
    }
   ],
   "source": [
    "# delete all messages in nss-data-analytics-js channel\n",
    "for msg in cleaner.msgs(filter(match('.*nss-data-analytics-js'), \n",
    "                         cleaner.conversations)):\n",
    "    msg.delete(replies=True, files=True)"
   ]
  },
  {
   "cell_type": "code",
   "execution_count": null,
   "metadata": {},
   "outputs": [],
   "source": []
  }
 ],
 "metadata": {
  "kernelspec": {
   "display_name": "Python 3",
   "language": "python",
   "name": "python3"
  },
  "language_info": {
   "codemirror_mode": {
    "name": "ipython",
    "version": 3
   },
   "file_extension": ".py",
   "mimetype": "text/x-python",
   "name": "python",
   "nbconvert_exporter": "python",
   "pygments_lexer": "ipython3",
   "version": "3.7.4"
  }
 },
 "nbformat": 4,
 "nbformat_minor": 2
}
