{
 "cells": [
  {
   "cell_type": "code",
   "execution_count": 1,
   "metadata": {},
   "outputs": [],
   "source": [
    "from slack_cleaner2 import *\n",
    "import pickle"
   ]
  },
  {
   "cell_type": "code",
   "execution_count": 2,
   "metadata": {},
   "outputs": [],
   "source": [
    "oauth_token = pickle.load(open('pickles/token.pkl', 'rb'))"
   ]
  },
  {
   "cell_type": "markdown",
   "metadata": {},
   "source": [
    "#### Github\n",
    "https://github.com/sgratzl/slack_cleaner2\n",
    "\n",
    "`pip install slack-cleaner2`  "
   ]
  },
  {
   "cell_type": "code",
   "execution_count": 3,
   "metadata": {},
   "outputs": [
    {
     "name": "stderr",
     "output_type": "stream",
     "text": [
      "users.list: missing scope error: users:read (bot, user) is missing\n",
      "cannot determine my own user, using the first one or a dummy one\n",
      "user UG0S0JB99 not found - generating dummy one\n",
      "user UG1ARE3D3 not found - generating dummy one\n",
      "user UG1BNAAEM not found - generating dummy one\n",
      "user UG1QSGB7W not found - generating dummy one\n",
      "user UG2MYG486 not found - generating dummy one\n",
      "user UG2PHEBAA not found - generating dummy one\n",
      "user UG72YBGUR not found - generating dummy one\n",
      "user UJ79WUA49 not found - generating dummy one\n",
      "user UNMUN2UMR not found - generating dummy one\n",
      "user UNZDJKUN4 not found - generating dummy one\n",
      "user USYKT9CKV not found - generating dummy one\n",
      "user U016H146CJJ not found - generating dummy one\n",
      "<function SlackCleaner.safe_paginated_api.<locals>.list_page at 0x7ff7d0a128b0>: unknown error occurred: fetch_members_failed\n",
      "<function SlackCleaner.safe_paginated_api.<locals>.list_page at 0x7ff7d0a12670>: unknown error occurred: fetch_members_failed\n",
      "<function SlackCleaner.safe_paginated_api.<locals>.list_page at 0x7ff7d0a12670>: unknown error occurred: fetch_members_failed\n",
      "<function SlackCleaner.safe_paginated_api.<locals>.list_page at 0x7ff7d0a12670>: unknown error occurred: fetch_members_failed\n",
      "<function SlackCleaner.safe_paginated_api.<locals>.list_page at 0x7ff7d0a12670>: unknown error occurred: fetch_members_failed\n",
      "<function SlackCleaner.safe_paginated_api.<locals>.list_page at 0x7ff7d0a12670>: unknown error occurred: fetch_members_failed\n",
      "<function SlackCleaner.safe_paginated_api.<locals>.list_page at 0x7ff7d0a12670>: unknown error occurred: fetch_members_failed\n",
      "<function SlackCleaner.safe_paginated_api.<locals>.list_page at 0x7ff7d0a12670>: unknown error occurred: fetch_members_failed\n",
      "<function SlackCleaner.safe_paginated_api.<locals>.list_page at 0x7ff7d0a12670>: unknown error occurred: fetch_members_failed\n",
      "<function SlackCleaner.safe_paginated_api.<locals>.list_page at 0x7ff7d0a12670>: unknown error occurred: fetch_members_failed\n",
      "<function SlackCleaner.safe_paginated_api.<locals>.list_page at 0x7ff7d0a12670>: unknown error occurred: fetch_members_failed\n",
      "<function SlackCleaner.safe_paginated_api.<locals>.list_page at 0x7ff7d0a12670>: unknown error occurred: fetch_members_failed\n",
      "<function SlackCleaner.safe_paginated_api.<locals>.list_page at 0x7ff7d0a12670>: unknown error occurred: fetch_members_failed\n",
      "conversations.list (private_channel): missing scope error: groups:read is missing\n",
      "conversations.list (mpim): missing scope error: mpim:read is missing\n",
      "conversations.list (im): missing scope error: im:read is missing\n"
     ]
    }
   ],
   "source": [
    "#create the cleaner\n",
    "cleaner = SlackCleaner(oauth_token)"
   ]
  },
  {
   "cell_type": "code",
   "execution_count": 4,
   "metadata": {},
   "outputs": [
    {
     "data": {
      "text/plain": [
       "[????? (?????) ?????, UG0S0JB99 (UG0S0JB99) UG0S0JB99, UG1ARE3D3 (UG1ARE3D3) UG1ARE3D3, UG1BNAAEM (UG1BNAAEM) UG1BNAAEM, UG1QSGB7W (UG1QSGB7W) UG1QSGB7W, UG2MYG486 (UG2MYG486) UG2MYG486, UG2PHEBAA (UG2PHEBAA) UG2PHEBAA, UG72YBGUR (UG72YBGUR) UG72YBGUR, UJ79WUA49 (UJ79WUA49) UJ79WUA49, UNMUN2UMR (UNMUN2UMR) UNMUN2UMR, UNZDJKUN4 (UNZDJKUN4) UNZDJKUN4, USYKT9CKV (USYKT9CKV) USYKT9CKV, U016H146CJJ (U016H146CJJ) U016H146CJJ]"
      ]
     },
     "execution_count": 4,
     "metadata": {},
     "output_type": "execute_result"
    }
   ],
   "source": [
    "#test to see that it connected\n",
    "cleaner.users"
   ]
  },
  {
   "cell_type": "code",
   "execution_count": 5,
   "metadata": {},
   "outputs": [
    {
     "name": "stderr",
     "output_type": "stream",
     "text": [
      "user U01B77NE0CX not found - generating dummy one\n"
     ]
    },
    {
     "name": "stdout",
     "output_type": "stream",
     "text": [
      "........................................"
     ]
    },
    {
     "name": "stderr",
     "output_type": "stream",
     "text": [
      "user U01B77NAVB9 not found - generating dummy one\n"
     ]
    },
    {
     "name": "stdout",
     "output_type": "stream",
     "text": [
      ".."
     ]
    },
    {
     "name": "stderr",
     "output_type": "stream",
     "text": [
      "user U01B77NDEUF not found - generating dummy one\n"
     ]
    },
    {
     "name": "stdout",
     "output_type": "stream",
     "text": [
      "................."
     ]
    },
    {
     "name": "stderr",
     "output_type": "stream",
     "text": [
      "user U01B77NEU07 not found - generating dummy one\n"
     ]
    },
    {
     "name": "stdout",
     "output_type": "stream",
     "text": [
      "..."
     ]
    },
    {
     "name": "stderr",
     "output_type": "stream",
     "text": [
      "user U01C0JGPMBK not found - generating dummy one\n"
     ]
    },
    {
     "name": "stdout",
     "output_type": "stream",
     "text": [
      ".."
     ]
    },
    {
     "name": "stderr",
     "output_type": "stream",
     "text": [
      "user USLACKBOT not found - generating dummy one\n"
     ]
    },
    {
     "name": "stdout",
     "output_type": "stream",
     "text": [
      "..."
     ]
    },
    {
     "name": "stderr",
     "output_type": "stream",
     "text": [
      "user U01BF7WBT2S not found - generating dummy one\n"
     ]
    },
    {
     "name": "stdout",
     "output_type": "stream",
     "text": [
      "...................."
     ]
    },
    {
     "name": "stderr",
     "output_type": "stream",
     "text": [
      "user U01B77NBFAB not found - generating dummy one\n"
     ]
    },
    {
     "name": "stdout",
     "output_type": "stream",
     "text": [
      "...."
     ]
    },
    {
     "name": "stderr",
     "output_type": "stream",
     "text": [
      "user U01C0JGN92M not found - generating dummy one\n"
     ]
    },
    {
     "name": "stdout",
     "output_type": "stream",
     "text": [
      "....."
     ]
    }
   ],
   "source": [
    "# delete all messages in nss-data-analytics-js channel\n",
    "for msg in cleaner.msgs(filter(match('.*nss-data-analytics-js'), \n",
    "                         cleaner.conversations)):\n",
    "    msg.delete(replies=True, files=True)"
   ]
  },
  {
   "cell_type": "code",
   "execution_count": 6,
   "metadata": {},
   "outputs": [
    {
     "name": "stdout",
     "output_type": "stream",
     "text": [
      "."
     ]
    },
    {
     "name": "stderr",
     "output_type": "stream",
     "text": [
      "user U01B77NG9DM not found - generating dummy one\n"
     ]
    },
    {
     "name": "stdout",
     "output_type": "stream",
     "text": [
      ".."
     ]
    },
    {
     "name": "stderr",
     "output_type": "stream",
     "text": [
      "user U01B77NA9DM not found - generating dummy one\n"
     ]
    },
    {
     "name": "stdout",
     "output_type": "stream",
     "text": [
      ".."
     ]
    },
    {
     "name": "stderr",
     "output_type": "stream",
     "text": [
      "user U01B77N923Z not found - generating dummy one\n"
     ]
    },
    {
     "name": "stdout",
     "output_type": "stream",
     "text": [
      "............"
     ]
    }
   ],
   "source": [
    "# delete all messages in general channel\n",
    "for msg in cleaner.msgs(filter(match('.*general'), \n",
    "                         cleaner.conversations)):\n",
    "    msg.delete(replies=True, files=True)"
   ]
  },
  {
   "cell_type": "code",
   "execution_count": 7,
   "metadata": {},
   "outputs": [
    {
     "name": "stdout",
     "output_type": "stream",
     "text": [
      "."
     ]
    },
    {
     "name": "stderr",
     "output_type": "stream",
     "text": [
      "user U018B37RN8J not found - generating dummy one\n"
     ]
    },
    {
     "name": "stdout",
     "output_type": "stream",
     "text": [
      "............"
     ]
    },
    {
     "name": "stderr",
     "output_type": "stream",
     "text": [
      "user UTJ1V71FE not found - generating dummy one\n"
     ]
    },
    {
     "name": "stdout",
     "output_type": "stream",
     "text": [
      "."
     ]
    },
    {
     "name": "stderr",
     "output_type": "stream",
     "text": [
      "user UT5MFFJFL not found - generating dummy one\n"
     ]
    },
    {
     "name": "stdout",
     "output_type": "stream",
     "text": [
      ".."
     ]
    },
    {
     "name": "stderr",
     "output_type": "stream",
     "text": [
      "user UT71FFMC3 not found - generating dummy one\n"
     ]
    },
    {
     "name": "stdout",
     "output_type": "stream",
     "text": [
      "................................"
     ]
    },
    {
     "name": "stderr",
     "output_type": "stream",
     "text": [
      "user UHKP9FUE4 not found - generating dummy one\n"
     ]
    },
    {
     "name": "stdout",
     "output_type": "stream",
     "text": [
      "..................................."
     ]
    }
   ],
   "source": [
    "# delete all messages in random channel\n",
    "for msg in cleaner.msgs(filter(match('.*random'), \n",
    "                         cleaner.conversations)):\n",
    "    msg.delete(replies=True, files=True)"
   ]
  },
  {
   "cell_type": "code",
   "execution_count": null,
   "metadata": {},
   "outputs": [],
   "source": []
  }
 ],
 "metadata": {
  "kernelspec": {
   "display_name": "Python 3",
   "language": "python",
   "name": "python3"
  },
  "language_info": {
   "codemirror_mode": {
    "name": "ipython",
    "version": 3
   },
   "file_extension": ".py",
   "mimetype": "text/x-python",
   "name": "python",
   "nbconvert_exporter": "python",
   "pygments_lexer": "ipython3",
   "version": "3.8.5"
  }
 },
 "nbformat": 4,
 "nbformat_minor": 2
}
