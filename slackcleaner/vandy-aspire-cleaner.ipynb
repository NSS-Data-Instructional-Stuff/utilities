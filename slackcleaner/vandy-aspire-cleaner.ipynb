{
 "cells": [
  {
   "cell_type": "code",
   "execution_count": 1,
   "metadata": {},
   "outputs": [],
   "source": [
    "from slack_cleaner2 import *\n",
    "import pickle"
   ]
  },
  {
   "cell_type": "code",
   "execution_count": 3,
   "metadata": {},
   "outputs": [],
   "source": [
    "vandy_token = pickle.load(open('pickles/vandy_token.pkl', 'rb'))"
   ]
  },
  {
   "cell_type": "code",
   "execution_count": 4,
   "metadata": {},
   "outputs": [
    {
     "name": "stderr",
     "output_type": "stream",
     "text": [
      "conversations.list (private_channel): missing scope error: groups:read is missing\n",
      "conversations.list (mpim): missing scope error: mpim:read is missing\n",
      "conversations.list (im): missing scope error: im:read is missing\n"
     ]
    }
   ],
   "source": [
    "#create the cleaner\n",
    "cleaner = SlackCleaner(vandy_token)"
   ]
  },
  {
   "cell_type": "code",
   "execution_count": 5,
   "metadata": {},
   "outputs": [
    {
     "data": {
      "text/plain": [
       "[slackbot (USLACKBOT) Slackbot, marylvv (UCGG23675) Mary van Valkenburg, oscar.ortega (UCJ27DF0C) Oscar Ortega, iliza.butera (UCL2VN1G8) Iliza Butera, francis.j.prael (UCL34K796) Francis J Prael III, vaibhav.a.janve (UCLA9BZ41) Vaibhav Janve, kim.petrie (UCLDRD1U6) Kim Petrie, arianna.rigon (UCLN2R5RR) Arianna Rigon, ashley.brady (UCLNDHJG2) Ashley Brady, natalie.v.covington (UCLUN8F7C) Natalie V Covington, christopher.t.smith (UCLUP3L3F) Christopher T Smith, megan.e.vogel (UCLUP411B) Megan E Vogel, amanda.m.leung (UCM9QPRK7) Amanda M Leung, alexander.thiemicke (UCME0AM0B) Alexander Thiemicke, hang-jing.wu (UCMJ72JFL) Hang-jing Wu, janani.varadarajan (UCMN3MU2H) Jan Varadarajan, alaina.h.willet (UCN4UDXFG) Alaina Willet, mabel.seto (UCNJNSJFR) Mabel Seto, kimberly.m.stauffer (UM5UGF2RG) Kim Alexander, slavina.b.goleva (UM5UGFW1Y) Slavina B Goleva, eangelo.morales (UM5UKFFKM) Angelo Morales, seth.r.taylor (UM5UKGJG3) Seth R Taylor, nora.j.foegeding (UMB11JMPT) Nora J Foegeding, neha.sawhney.1 (UMGTXJUFN) Neha Sawhney, michael.holloway (UMGTXLKHS) Michael Holloway, daniel.j.blackwell (UMHC6TXNC) Daniel J Blackwell, agnieszka.topolska-wo (UMHC71PBJ) Agnieszka Topolska-Wos, turnee.n.malik (UMHCD7UJH) Turnee Malik, matthew.mead (UMHCD83K7) Matthew Mead, katherine.t.snyder (UMHCD96ER) Kate Snyder, alexandra.j.trevisan (UMK891UCF) Alexandra J Trevisan, yunkai.zhang (UMK8922B1) Yunkai Zhang, ivan.ivanov (UMKHQ6KDL) Ivan Ivanov, armelle.le.guelte (UMKHQ6TPG) Armelle Le Guelte, shristi.shrestha (UMKHQ8614) Shristi Shrestha, angela.zito (UMQR3QH38) Angela Zito]"
      ]
     },
     "execution_count": 5,
     "metadata": {},
     "output_type": "execute_result"
    }
   ],
   "source": [
    "#test to see that it connected\n",
    "cleaner.users"
   ]
  },
  {
   "cell_type": "code",
   "execution_count": 7,
   "metadata": {},
   "outputs": [
    {
     "name": "stdout",
     "output_type": "stream",
     "text": [
      "..............................................................."
     ]
    },
    {
     "name": "stderr",
     "output_type": "stream",
     "text": [
      "conversations.replies: unknown error occurred: thread_not_found\n"
     ]
    },
    {
     "name": "stdout",
     "output_type": "stream",
     "text": [
      "...."
     ]
    }
   ],
   "source": [
    "# delete all messages in nss-data-analytics-js channel\n",
    "for msg in cleaner.msgs(filter(match('.*data-science-essentials'), \n",
    "                         cleaner.conversations)):\n",
    "    msg.delete(replies=True, files=True)"
   ]
  },
  {
   "cell_type": "code",
   "execution_count": null,
   "metadata": {},
   "outputs": [],
   "source": []
  }
 ],
 "metadata": {
  "kernelspec": {
   "display_name": "Python 3",
   "language": "python",
   "name": "python3"
  },
  "language_info": {
   "codemirror_mode": {
    "name": "ipython",
    "version": 3
   },
   "file_extension": ".py",
   "mimetype": "text/x-python",
   "name": "python",
   "nbconvert_exporter": "python",
   "pygments_lexer": "ipython3",
   "version": "3.7.4"
  }
 },
 "nbformat": 4,
 "nbformat_minor": 2
}
