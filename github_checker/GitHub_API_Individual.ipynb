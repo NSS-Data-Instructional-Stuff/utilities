{
 "cells": [
  {
   "cell_type": "code",
   "execution_count": null,
   "id": "10460030",
   "metadata": {},
   "outputs": [],
   "source": [
    "import requests\n",
    "import pandas as pd\n",
    "from tqdm.notebook import tqdm\n",
    "import json\n",
    "import datetime"
   ]
  },
  {
   "cell_type": "code",
   "execution_count": null,
   "id": "0f4a2daf",
   "metadata": {},
   "outputs": [],
   "source": [
    "with open('token.json') as fi:\n",
    "    token = json.load(fi)['token']\n",
    "    \n",
    "headers = {\n",
    "    'Authorization': f'Bearer {token}'\n",
    "}"
   ]
  },
  {
   "cell_type": "markdown",
   "id": "911bfd9c",
   "metadata": {},
   "source": [
    "List the repos that you want to check on. These will be cleaned up, so it doesn't matter if they have \".git\" on the end or not."
   ]
  },
  {
   "cell_type": "code",
   "execution_count": null,
   "id": "750ec62a",
   "metadata": {},
   "outputs": [],
   "source": [
    "repos = [\n",
    "\"https://github.com/bdfinlayson/presidency_ngram_viewer\",\n",
    "\"https://github.com/czhang87/covid_vaccine.git\",\n",
    "\"https://github.com/charre2021/NSS_Midcourse_Project_charre2021.git\",\n",
    "\"https://github.com/Corbec/emergency-room-visits\",\n",
    "\"https://github.com/ccmerry/injury_rate_chance.git\",\n",
    "\"https://github.com/CReihsmann/Shiny_Triathlon.git\",\n",
    "\"https://github.com/elavender1/Portfolio-Optimization.git\",\n",
    "\"https://github.com/ZhenyaC/st_ownership\",\n",
    "\"https://github.com/ripplesphere/pokemon_battle_simulator\",\n",
    "\"https://github.com/jrkotun/global-video-game-sales-analysis\",\n",
    "\"https://github.com/jacob-parks98/Smart_MAR\",\n",
    "\"https://github.com/jcrando/hosptial-cost-\",\n",
    "\"https://github.com/JAGVU09/Nashville_STR_effects\",\n",
    "\"https://github.com/jrawdata/DSTnashville\",\n",
    "\"https://github.com/jrioross/dynasty_fantasy_football_ktc\",\n",
    "\"https://github.com/nedatahe/endangered-languages\",\n",
    "\"https://github.com/rohitrvenkat/nashville-traffic\",\n",
    "\"https://github.com/ross-k/ross-k-market_sector_tracker\",\n",
    "\"https://github.com/VahidehRasekhi/twitter_sentiment_analysis\",\n",
    "\"https://github.com/vredd418/Effectiveness-of-the-Metro-Nashville-Govt.-\",\n",
    "\"https://github.com/yvonnemartinez716/orthopedicsurgerycosts.git\"\n",
    "]"
   ]
  },
  {
   "cell_type": "code",
   "execution_count": null,
   "id": "5f7454b6",
   "metadata": {},
   "outputs": [],
   "source": [
    "def prepare_repo_name(repo_name):\n",
    "    if repo_name[:19] == 'https://github.com/':\n",
    "        repo_name = repo_name[19:]\n",
    "    if repo_name[-4:] == '.git':\n",
    "        repo_name = repo_name[:-4]\n",
    "        \n",
    "    return repo_name\n",
    "\n",
    "repos = [prepare_repo_name(repo) for repo in repos]"
   ]
  },
  {
   "cell_type": "code",
   "execution_count": null,
   "id": "d3152fd5",
   "metadata": {},
   "outputs": [],
   "source": [
    "results = []\n",
    "\n",
    "for repo_name in tqdm(repos):\n",
    "    repo = f'{repo_name}'\n",
    "    \n",
    "    # First, retrieve all of the branches. Extract the shas from the results.\n",
    "    URL = f'https://api.github.com/repos/{repo}/branches'\n",
    "    response = requests.get(URL, headers = headers)\n",
    "    shas = [x['commit']['sha'] for x in response.json()]\n",
    "\n",
    "    # Then, use those shas to retrieve the details.\n",
    "    URL = f'https://api.github.com/repos/{repo}/commits'\n",
    "    for sha in shas:\n",
    "        params = {\n",
    "            'sha': sha,\n",
    "            'per_page': 100,\n",
    "            'token': token\n",
    "        }\n",
    "        response = requests.get(URL, params = params, headers = headers)\n",
    "\n",
    "        for commit in response.json():\n",
    "            results.append((repo_name, \n",
    "                            commit['sha'], \n",
    "                            commit['commit']['author']['date'], \n",
    "                            commit['commit']['author']['name'],\n",
    "                            commit['commit']['message']))"
   ]
  },
  {
   "cell_type": "markdown",
   "id": "b10b2b0d",
   "metadata": {},
   "source": [
    "This creates a DataFrame, `results` which contains information on all commits."
   ]
  },
  {
   "cell_type": "code",
   "execution_count": null,
   "id": "7075a931",
   "metadata": {},
   "outputs": [],
   "source": [
    "colnames = ['repo_name', 'sha', 'date', 'committer', 'message']\n",
    "\n",
    "results = (\n",
    "    pd.DataFrame(results, columns = colnames)\n",
    "    .drop_duplicates()\n",
    ")\n",
    "\n",
    "results['date'] = pd.to_datetime(results['date'])"
   ]
  },
  {
   "cell_type": "markdown",
   "id": "ff657549",
   "metadata": {},
   "source": [
    "The DataFrame `results_latest` shows the most recent commit and how long ago it was, along with a count of total commits."
   ]
  },
  {
   "cell_type": "code",
   "execution_count": null,
   "id": "cb3b331f",
   "metadata": {},
   "outputs": [],
   "source": [
    "results_latest = results.groupby(['repo_name'])['date'].agg(['count', 'max'])\n",
    "\n",
    "results_latest['time_since_last_commit'] = datetime.datetime.utcnow() - results_latest['max'].dt.tz_localize(None)"
   ]
  },
  {
   "cell_type": "code",
   "execution_count": null,
   "id": "f8953586",
   "metadata": {},
   "outputs": [],
   "source": [
    "results_latest"
   ]
  },
  {
   "cell_type": "markdown",
   "id": "1ea221d8",
   "metadata": {},
   "source": [
    "You can also easily filter for people who haven't committed in, for example, 3 days."
   ]
  },
  {
   "cell_type": "code",
   "execution_count": null,
   "id": "9453ba20",
   "metadata": {},
   "outputs": [],
   "source": [
    "cutoff = '3d'\n",
    "\n",
    "results_latest[results_latest['time_since_last_commit'] > pd.to_timedelta(cutoff)]"
   ]
  }
 ],
 "metadata": {
  "kernelspec": {
   "display_name": "Python 3 (ipykernel)",
   "language": "python",
   "name": "python3"
  },
  "language_info": {
   "codemirror_mode": {
    "name": "ipython",
    "version": 3
   },
   "file_extension": ".py",
   "mimetype": "text/x-python",
   "name": "python",
   "nbconvert_exporter": "python",
   "pygments_lexer": "ipython3",
   "version": "3.8.3"
  }
 },
 "nbformat": 4,
 "nbformat_minor": 5
}
